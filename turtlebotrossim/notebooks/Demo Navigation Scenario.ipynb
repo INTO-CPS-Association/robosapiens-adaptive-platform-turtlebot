{
 "cells": [
  {
   "cell_type": "code",
   "execution_count": 1,
   "id": "63796231-4fce-4489-b4d9-3677f3de409f",
   "metadata": {},
   "outputs": [],
   "source": [
    "import rclpy"
   ]
  },
  {
   "cell_type": "code",
   "execution_count": 2,
   "id": "a30020fb",
   "metadata": {},
   "outputs": [],
   "source": [
    "from turtlebot4_navigation.turtlebot4_navigator import TurtleBot4Directions, TurtleBot4Navigator\n"
   ]
  },
  {
   "cell_type": "code",
   "execution_count": 3,
   "id": "33c4c3c8",
   "metadata": {},
   "outputs": [],
   "source": [
    "rclpy.init()"
   ]
  },
  {
   "cell_type": "code",
   "execution_count": 4,
   "id": "131fffe3",
   "metadata": {},
   "outputs": [],
   "source": [
    "navigator = TurtleBot4Navigator()"
   ]
  },
  {
   "cell_type": "code",
   "execution_count": 5,
   "id": "8fc40830",
   "metadata": {},
   "outputs": [
    {
     "data": {
      "text/plain": [
       "True"
      ]
     },
     "execution_count": 5,
     "metadata": {},
     "output_type": "execute_result"
    }
   ],
   "source": [
    "navigator.getDockedStatus()"
   ]
  },
  {
   "cell_type": "code",
   "execution_count": 6,
   "id": "0c60b191",
   "metadata": {},
   "outputs": [
    {
     "name": "stderr",
     "output_type": "stream",
     "text": [
      "[INFO] [1715956534.543822130] [basic_navigator]: Publishing Initial Pose\n"
     ]
    }
   ],
   "source": [
    "initial_pose = navigator.getPoseStamped([0.0, 0.0], TurtleBot4Directions.NORTH)\n",
    "navigator.setInitialPose(initial_pose)"
   ]
  },
  {
   "cell_type": "code",
   "execution_count": 7,
   "id": "27ff04e2",
   "metadata": {},
   "outputs": [],
   "source": [
    "poses = [\n",
    "    navigator.getPoseStamped([-8.0, 0.4], TurtleBot4Directions.NORTH),\n",
    "    navigator.getPoseStamped([5.8, 7.0], TurtleBot4Directions.NORTH),\n",
    "]"
   ]
  },
  {
   "cell_type": "code",
   "execution_count": 8,
   "id": "551608de",
   "metadata": {},
   "outputs": [
    {
     "name": "stderr",
     "output_type": "stream",
     "text": [
      "[INFO] [1715956534.576558546] [basic_navigator]: Undocking...\n"
     ]
    },
    {
     "name": "stderr",
     "output_type": "stream",
     "text": [
      "[INFO] [1715956569.846714834] [basic_navigator]: Undock succeeded\n"
     ]
    }
   ],
   "source": [
    "navigator.undock()"
   ]
  },
  {
   "cell_type": "code",
   "execution_count": 9,
   "id": "0f9d8c15",
   "metadata": {},
   "outputs": [
    {
     "name": "stderr",
     "output_type": "stream",
     "text": [
      "[INFO] [1715956569.906076341] [basic_navigator]: Following 2 goals....\n"
     ]
    },
    {
     "name": "stdout",
     "output_type": "stream",
     "text": [
      "Executing current waypoint: 2/2    \r"
     ]
    }
   ],
   "source": [
    "navigator.startFollowWaypoints(poses)"
   ]
  },
  {
   "cell_type": "code",
   "execution_count": null,
   "id": "9f95beae",
   "metadata": {},
   "outputs": [],
   "source": []
  }
 ],
 "metadata": {
  "kernelspec": {
   "display_name": "Python 3 ROS (ipykernel)",
   "language": "python",
   "name": "python3ros"
  },
  "language_info": {
   "codemirror_mode": {
    "name": "ipython",
    "version": 3
   },
   "file_extension": ".py",
   "mimetype": "text/x-python",
   "name": "python",
   "nbconvert_exporter": "python",
   "pygments_lexer": "ipython3",
   "version": "3.10.12"
  }
 },
 "nbformat": 4,
 "nbformat_minor": 5
}
